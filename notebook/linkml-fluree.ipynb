{
 "cells": [
  {
   "cell_type": "markdown",
   "id": "760643b9-724f-48ff-9a2c-bdecd6dad7e0",
   "metadata": {},
   "source": [
    "# Setup"
   ]
  },
  {
   "cell_type": "markdown",
   "id": "236451da-846b-4c47-8fa6-08b073efb3b6",
   "metadata": {},
   "source": [
    "## Prepare ontology"
   ]
  },
  {
   "cell_type": "code",
   "execution_count": 1,
   "id": "0a1c9ecd-6812-405a-99fb-76e5d0d18e7d",
   "metadata": {},
   "outputs": [
    {
     "name": "stdout",
     "output_type": "stream",
     "text": [
      "env: ONTOLOGY_FILE=../ontology/mwb-ontology.owl.yaml\n",
      "env: OUTPUT_DIR=../output\n",
      "env: OUTPUT_VIZ=../output/Data-centric-app-demo.jpg\n",
      "env: OUTPUT_OWL=../output/mwb-ontology.owl.ttl\n",
      "env: OUTPUT_SHACL=../output/mwb-shapes.shacl.ttl\n"
     ]
    }
   ],
   "source": [
    "%env ONTOLOGY_FILE=../ontology/mwb-ontology.owl.yaml\n",
    "%env OUTPUT_DIR=../output\n",
    "%env OUTPUT_VIZ=../output/Data-centric-app-demo.jpg\n",
    "%env OUTPUT_OWL=../output/mwb-ontology.owl.ttl\n",
    "%env OUTPUT_SHACL=../output/mwb-shapes.shacl.ttl"
   ]
  },
  {
   "cell_type": "code",
   "execution_count": 2,
   "id": "551111c8-49ba-4ce7-b209-f3f4f82dce8b",
   "metadata": {},
   "outputs": [
    {
     "name": "stdout",
     "output_type": "stream",
     "text": [
      "/bin/bash: warning: setlocale: LC_ALL: cannot change locale (en_US.UTF-8)\r\n",
      "    tree_root: true\r\n",
      "    attributes:\r\n",
      "      persons:\r\n",
      "        multivalued: true\r\n",
      "        inlined_as_list: true\r\n",
      "        range: Person\r\n",
      "      companies:\r\n",
      "        multivalued: true\r\n",
      "        inlined_as_list: true\r\n",
      "        range: Company\r\n"
     ]
    }
   ],
   "source": [
    "!tail $ONTOLOGY_FILE"
   ]
  },
  {
   "cell_type": "markdown",
   "id": "87da3984-5f9d-4528-b9ea-ab0453a56516",
   "metadata": {},
   "source": [
    "## Prepare test data"
   ]
  },
  {
   "cell_type": "code",
   "execution_count": 3,
   "id": "67d973a9-2fc4-47b9-a253-485e75a5ea0d",
   "metadata": {},
   "outputs": [
    {
     "name": "stdout",
     "output_type": "stream",
     "text": [
      "env: DATA_FILE=../tests/test_data/mwb-demo-data.yaml\n",
      "env: OUTPUT_DATA=../output/mwb-demo-data.ttl\n"
     ]
    }
   ],
   "source": [
    "%env DATA_FILE=../tests/test_data/mwb-demo-data.yaml\n",
    "%env OUTPUT_DATA=../output/mwb-demo-data.ttl"
   ]
  },
  {
   "cell_type": "code",
   "execution_count": 396,
   "id": "2cda8e5d-7362-41be-8444-bcd717556556",
   "metadata": {},
   "outputs": [
    {
     "name": "stdout",
     "output_type": "stream",
     "text": [
      "    name: Clark Kent\n",
      "    age: 33\n",
      "    phone: 555-555-5555\n",
      "  - id: mnfy:4567\n",
      "    name: Lois Lane\n",
      "    age: 34\n",
      "companies:\n",
      "  - id: mnfy:7890\n",
      "    name: ABC Inc.\n",
      "    phone: 555-555-5555\n"
     ]
    }
   ],
   "source": [
    "!tail $DATA_FILE"
   ]
  },
  {
   "cell_type": "markdown",
   "id": "a2d475dc-14bf-4648-a678-783af6578182",
   "metadata": {},
   "source": [
    "## Test LinkML environment"
   ]
  },
  {
   "cell_type": "markdown",
   "id": "abed83cc-8b8c-4a91-937c-80fd1dcea8f8",
   "metadata": {},
   "source": [
    "### Validate data against ontology"
   ]
  },
  {
   "cell_type": "code",
   "execution_count": 397,
   "id": "463766e5-569d-4643-a6da-c814c524d331",
   "metadata": {},
   "outputs": [
    {
     "name": "stdout",
     "output_type": "stream",
     "text": [
      "No issues found\n"
     ]
    }
   ],
   "source": [
    "!linkml-validate -s $ONTOLOGY_FILE $DATA_FILE"
   ]
  },
  {
   "cell_type": "markdown",
   "id": "4eb0745a-e867-407f-ad00-d6d7684cb000",
   "metadata": {},
   "source": [
    "### Export OWL ontology"
   ]
  },
  {
   "cell_type": "code",
   "execution_count": 398,
   "id": "3f3cdfa3-d6ee-4139-b67a-3bb4a3d0da94",
   "metadata": {},
   "outputs": [
    {
     "name": "stdout",
     "output_type": "stream",
     "text": [
      "WARNING:root:Ambiguous attribute: id https://meaningfy.ws/data-centric-app-demo/id\n",
      "WARNING:root:Ambiguous attribute: aliases https://meaningfy.ws/data-centric-app-demo/aliases\n",
      "WARNING:root:Ambiguous attribute: id https://meaningfy.ws/data-centric-app-demo/id\n",
      "WARNING:root:Ambiguous attribute: aliases https://meaningfy.ws/data-centric-app-demo/aliases\n"
     ]
    }
   ],
   "source": [
    "!gen-owl $ONTOLOGY_FILE > $OUTPUT_OWL"
   ]
  },
  {
   "cell_type": "code",
   "execution_count": 399,
   "id": "88b1c06e-660f-4528-ba16-14bc7265aac4",
   "metadata": {},
   "outputs": [
    {
     "name": "stdout",
     "output_type": "stream",
     "text": [
      "mnfy:name a owl:DatatypeProperty ;\n",
      "    rdfs:label \"name\" ;\n",
      "    skos:definition \"name of the person\" ;\n",
      "    skos:inScheme <https://meaningfy.ws/data-centric-app-demo> .\n",
      "\n",
      "mnfy:phone a owl:DatatypeProperty ;\n",
      "    rdfs:label \"phone\" ;\n",
      "    skos:inScheme <https://meaningfy.ws/data-centric-app-demo> .\n",
      "\n",
      "\n"
     ]
    }
   ],
   "source": [
    "!tail $OUTPUT_OWL"
   ]
  },
  {
   "cell_type": "markdown",
   "id": "28c379c5-8cf9-4391-a4b5-7370a35d44a1",
   "metadata": {},
   "source": [
    "### Export RDF data informed by ontology"
   ]
  },
  {
   "cell_type": "code",
   "execution_count": 400,
   "id": "71325e20-6ca3-47be-b472-2a2f3798d1f6",
   "metadata": {},
   "outputs": [],
   "source": [
    "!linkml-convert -s $ONTOLOGY_FILE $DATA_FILE -o $OUTPUT_DATA"
   ]
  },
  {
   "cell_type": "code",
   "execution_count": 401,
   "id": "4efe98ed-eba5-443b-bcdb-1fe310cc1be2",
   "metadata": {},
   "outputs": [
    {
     "name": "stdout",
     "output_type": "stream",
     "text": [
      "\n",
      "mnfy:7890 a mnfy:Company ;\n",
      "    schema1:name \"ABC Inc.\" ;\n",
      "    schema1:telephone \"555-555-5555\" .\n",
      "\n",
      "[] a mnfy:Container ;\n",
      "    mnfy:companies mnfy:7890 ;\n",
      "    mnfy:persons mnfy:1234,\n",
      "        mnfy:4567 .\n",
      "\n"
     ]
    }
   ],
   "source": [
    "!tail $OUTPUT_DATA"
   ]
  },
  {
   "cell_type": "markdown",
   "id": "b42f136e-9e18-497e-aa75-3ca42bee9c02",
   "metadata": {},
   "source": [
    "### Export SHACL shapes derived from ontology"
   ]
  },
  {
   "cell_type": "code",
   "execution_count": 402,
   "id": "2ca7a15b-5a62-4c51-bca9-0cc0faf91150",
   "metadata": {},
   "outputs": [],
   "source": [
    "!gen-shacl --no-metadata $ONTOLOGY_FILE > $OUTPUT_SHACL"
   ]
  },
  {
   "cell_type": "code",
   "execution_count": 403,
   "id": "e440aefa-457d-455a-a4c1-cfad3ca4d34b",
   "metadata": {},
   "outputs": [
    {
     "name": "stdout",
     "output_type": "stream",
     "text": [
      "        [ sh:datatype xsd:integer ;\n",
      "            sh:maxCount 1 ;\n",
      "            sh:maxInclusive 200 ;\n",
      "            sh:minInclusive 0 ;\n",
      "            sh:nodeKind sh:Literal ;\n",
      "            sh:order 4 ;\n",
      "            sh:path mnfy:age ] ;\n",
      "    sh:targetClass schema1:Person .\n",
      "\n",
      "\n"
     ]
    }
   ],
   "source": [
    "!tail $OUTPUT_SHACL"
   ]
  },
  {
   "cell_type": "markdown",
   "id": "15fc6518-4c6f-48aa-adf5-5269879364ac",
   "metadata": {},
   "source": [
    "### Export UML visualization of ontology"
   ]
  },
  {
   "cell_type": "code",
   "execution_count": 404,
   "id": "43877ff8-062e-4368-bc71-72e304d01bf5",
   "metadata": {},
   "outputs": [
    {
     "name": "stdout",
     "output_type": "stream",
     "text": [
      "Exporting UML diagram.. \n",
      "../output/Data-centric-app-demo.jpg: JPEG image data, JFIF standard 1.01, aspect ratio, density 72x72, segment length 16, baseline, precision 8, 560x215, frames 3\n"
     ]
    }
   ],
   "source": [
    "!echo \"Exporting UML diagram.. \" && gen-yuml -f jpg -d $OUTPUT_DIR $ONTOLOGY_FILE && file $OUTPUT_VIZ"
   ]
  },
  {
   "cell_type": "markdown",
   "id": "7ce42ee6-5585-4d88-9e27-2df461d858ac",
   "metadata": {},
   "source": [
    "## Start Flur.ee database"
   ]
  },
  {
   "cell_type": "markdown",
   "id": "067436cd-45c4-4a9b-a48a-8a123cd2f899",
   "metadata": {},
   "source": [
    "### Get and run Flur.ee separately\n",
    "You may use the Cloud instance, but keep in mind that the port we will be using is [58090](http://localhost:58090). If you experience problems signing up or logging  in, for example, seeing 404 or 403 pages, clear your cookies for the website (see [here](https://support.google.com/chrome/answer/95647?hl=en&co=GENIE.Platform%3DDesktop#zippy=%2Cdelete-cookies-from-a-site) if using Chrome).\n",
    "\n",
    "If you prefer to \"install\" locally, use the Docker instance (requires you have Docker itself installed of course), which you can invoke using the [documented](https://developers.flur.ee/docs/learn/tutorial/introduction/#running-fluree) command:\n",
    "\n",
    "```\n",
    "docker run -p 58090:8090 -v `pwd`/data:/opt/fluree-server/data fluree/server:stable\n",
    "```\n",
    "\n",
    "We add the `stable` version identifier in case there are any problems with the `latest` release.\n",
    "\n",
    "_Keep this running in a separate terminal window as it will run as a daemon/service._"
   ]
  },
  {
   "cell_type": "code",
   "execution_count": 405,
   "id": "90bb7c64-22b7-4cdf-bdc9-0b951b9eb76f",
   "metadata": {},
   "outputs": [
    {
     "name": "stdout",
     "output_type": "stream",
     "text": [
      "env: FLUREE_PORT=58090\n",
      "env: FLUREE_LOCAL_HTTP=http://localhost:58090\n",
      "env: FLUREE_LOCAL_API=http://localhost:58090/fluree\n",
      "env: FLUREE_LEDGER=mwb-fluree-poc\n"
     ]
    }
   ],
   "source": [
    "%env FLUREE_PORT=58090\n",
    "%env FLUREE_LOCAL_HTTP=http://localhost:58090\n",
    "%env FLUREE_LOCAL_API=http://localhost:58090/fluree\n",
    "%env FLUREE_LEDGER=mwb-fluree-poc"
   ]
  },
  {
   "cell_type": "markdown",
   "id": "4adea3b6-088a-4f5f-89b9-a5421b724e85",
   "metadata": {},
   "source": [
    "### Check if database service is up and running"
   ]
  },
  {
   "cell_type": "code",
   "execution_count": 406,
   "id": "6eb5363c-4b8a-4f78-a9c9-9d5c46995b93",
   "metadata": {},
   "outputs": [
    {
     "name": "stdout",
     "output_type": "stream",
     "text": [
      "It's alive!\n"
     ]
    }
   ],
   "source": [
    "!curl -s $FLUREE_LOCAL_HTTP/index.html | grep -q swagger && echo \"It's alive!\""
   ]
  },
  {
   "cell_type": "markdown",
   "id": "61313601-5d9d-4316-afd6-7701dd426edc",
   "metadata": {},
   "source": [
    "### Initialize repository / ledger with constraints\n",
    "\n",
    "With constraint on a property (`name` max 1) and initial data.\n",
    "\n",
    "_Flur.ee does not require a UNIQUE constraint as RDF mutation on the same IRI (and therefore a resource with the same ID) is idempotent._"
   ]
  },
  {
   "cell_type": "code",
   "execution_count": 407,
   "id": "37424908-2322-4e7a-9913-6b602c8393b1",
   "metadata": {},
   "outputs": [
    {
     "name": "stdout",
     "output_type": "stream",
     "text": [
      "{\"ledger\":\"mwb-fluree-poc\",\"commit\":\"fluree:file://mwb-fluree-poc/main/commit/70f0c02a061376a68edb248f0047357b9e458760ea7031c9709e7eb0ec086aa3.json\",\"t\":1,\"tx-id\":\"80c46ffcb11379f15f01d2b4c4a88447da6f29e42a2019ea5933ca0b70fc4a52\"}"
     ]
    }
   ],
   "source": [
    "%%bash\n",
    "\n",
    "# credit https://stackoverflow.com/questions/17029902/using-curl-post-with-variables-defined-in-bash-script-functions\n",
    "create_data() {\n",
    "    cat << EOF\n",
    "{\n",
    "  \"ledger\": \"$FLUREE_LEDGER\",\n",
    "  \"@context\": {\n",
    "    \"@vocab\": \"https://meaningfy.ws/mapping-workbench#\",\n",
    "    \"@base\": \"https://meaningfy.ws/data-centric-app-demo/\",      \n",
    "    \"schema\": \"http://schema.org/\",\n",
    "    \"sh\": \"http://www.w3.org/ns/shacl#\"\n",
    "  },\n",
    "  \"insert\": [\n",
    "      {\n",
    "        \"@id\": \"ex:UserShape\",\n",
    "        \"@type\": [\"sh:NodeShape\"],\n",
    "        \"sh:targetClass\": { \"@id\": \"schema:Person\" },\n",
    "        \"sh:property\": [\n",
    "          {\n",
    "            \"sh:path\": { \"@id\": \"schema:name\" },\n",
    "            \"sh:maxCount\": 1\n",
    "          }\n",
    "        ]\n",
    "      },\n",
    "      {\n",
    "        \"@id\": \"parsia\",\n",
    "        \"@type\": \"schema:Person\",\n",
    "        \"schema:name\": \"Bijan Parsia\",\n",
    "        \"age\": 33,\n",
    "        \"schema:telephone\": \"555-555-6666\"\n",
    "      }\n",
    "  ]\n",
    "}\n",
    "EOF\n",
    "}\n",
    "\n",
    "curl -s \"$FLUREE_LOCAL_API/create\" \\\n",
    "--header 'Content-Type: application/json' \\\n",
    "--data \"$(create_data)\" \n",
    "#| grep -qw mwb-test && echo \"Ledger $FLUREE_LEDGER created or already exists\""
   ]
  },
  {
   "cell_type": "markdown",
   "id": "d236c3de-3329-4b7b-b3ee-6b9d78d59470",
   "metadata": {},
   "source": [
    "# Test Flur.ee CRUD"
   ]
  },
  {
   "cell_type": "markdown",
   "id": "2f20ab6f-4690-4d42-823b-6bb642bdcd93",
   "metadata": {},
   "source": [
    "## Test CREATE\n",
    "\n",
    "Running this twice should result in an error due to constraint (SHACL) violation on cardinality of `name`.\n",
    "\n",
    "### Create single resource"
   ]
  },
  {
   "cell_type": "code",
   "execution_count": 408,
   "id": "3e8ad7b1-d9c4-4a94-94de-c176e39b5110",
   "metadata": {},
   "outputs": [
    {
     "name": "stdout",
     "output_type": "stream",
     "text": [
      "{\n",
      "    \"ledger\": \"mwb-fluree-poc\",\n",
      "    \"commit\": \"fluree:file://mwb-fluree-poc/main/commit/41acd095a6f68972cf31ff573e61e7054c6dbd7c8f3c5784285f90c158e2870b.json\",\n",
      "    \"t\": 2,\n",
      "    \"tx-id\": \"028cfcd511df4ab706585ed474d68bac8fe1dc494006ff07d6a5c531fa55f167\"\n",
      "}\n"
     ]
    }
   ],
   "source": [
    "%%bash\n",
    "\n",
    "create_data() {\n",
    "    cat << EOF\n",
    "{\n",
    "  \"ledger\": \"$FLUREE_LEDGER\",\n",
    "  \"@context\": {\n",
    "     \"@vocab\": \"https://meaningfy.ws/mapping-workbench#\",\n",
    "     \"@base\": \"https://meaningfy.ws/data-centric-app-demo/\",\n",
    "     \"schema\": \"http://schema.org/\"\n",
    "  },    \n",
    "  \"insert\": {\n",
    "    \"@id\": \"clark\",\n",
    "    \"@type\": \"schema:Person\",\n",
    "    \"schema:name\": \"Clark Kent\",\n",
    "    \"age\": 33,\n",
    "    \"schema:telephone\": \"555-555-5555\"\n",
    "  }\n",
    "}\n",
    "EOF\n",
    "}\n",
    "\n",
    "curl -s \"$FLUREE_LOCAL_API/transact\" \\\n",
    "--header 'Content-Type: application/json' \\\n",
    "--data \"$(create_data)\" | python -m json.tool # credit https://stackoverflow.com/questions/352098/how-can-i-pretty-print-json-in-a-shell-script"
   ]
  },
  {
   "cell_type": "markdown",
   "id": "75377dd1-ddb5-4061-aac8-917995bd67b6",
   "metadata": {},
   "source": [
    "### Create single resource with linked resources"
   ]
  },
  {
   "cell_type": "markdown",
   "id": "14ebc831-b5be-42f6-9a50-a044366b7ef9",
   "metadata": {},
   "source": [
    "We create another Person with linked objects at the same time, implying a composition relationship. The linked objects get random IDs and could result in duplication if this is run more than once, without any SHACL constraint on the relationship.\n",
    "\n",
    "The linked objects could be created as siblings with their own IDs, which effectively results in an aggregation relationship.\n",
    "\n",
    "It matters what kind of association a relationship is, as it has an effect on _cascading_ mutations (CASCADE or DETACH DELETEs in some databases). Not sure if Flur.ee has any kind of facility for such mutations, but it's good to be clear about this from the outset."
   ]
  },
  {
   "cell_type": "code",
   "execution_count": 409,
   "id": "78095598-12d1-4aee-a55e-c697665f21d0",
   "metadata": {},
   "outputs": [
    {
     "name": "stdout",
     "output_type": "stream",
     "text": [
      "{\n",
      "    \"ledger\": \"mwb-fluree-poc\",\n",
      "    \"commit\": \"fluree:file://mwb-fluree-poc/main/commit/49c96c00d98354feea959ccdd197c2e16a4776cb140f9e3d314ffb02a7cba54b.json\",\n",
      "    \"t\": 3,\n",
      "    \"tx-id\": \"ed24dbcdf6a919e9dc7e94581a28d300e4fc58511e275d4838b53166b6534170\"\n",
      "}\n"
     ]
    }
   ],
   "source": [
    "%%bash\n",
    "\n",
    "create_data() {\n",
    "    cat << EOF\n",
    "{\n",
    "  \"ledger\": \"$FLUREE_LEDGER\",\n",
    "  \"@context\": {\n",
    "     \"@vocab\": \"https://meaningfy.ws/mapping-workbench#\",\n",
    "     \"@base\": \"https://meaningfy.ws/data-centric-app-demo/\",\n",
    "     \"schema\": \"http://schema.org/\"\n",
    "  },\n",
    "  \"insert\": {\n",
    "    \"@id\": \"lois\",\n",
    "    \"@type\": \"schema:Person\",\n",
    "    \"schema:name\": \"Lois Lane\",\n",
    "    \"age\": 34,\n",
    "    \"history\": [\n",
    "        {\n",
    "          \"dateTime\": \"2022-12-20\",\n",
    "          \"location\": \"ski basin\"\n",
    "        },\n",
    "        {\n",
    "          \"dateTime\": \"2022-12-21\",\n",
    "          \"location\": \"Target\"\n",
    "        }\n",
    "    ]\n",
    "  }\n",
    "}\n",
    "EOF\n",
    "}\n",
    "\n",
    "curl -s \"$FLUREE_LOCAL_API/transact\" \\\n",
    "--header 'Content-Type: application/json' \\\n",
    "--data \"$(create_data)\" | python -m json.tool"
   ]
  },
  {
   "cell_type": "markdown",
   "id": "c913a32e-1585-4096-a355-202087d3d7f7",
   "metadata": {},
   "source": [
    "## Test UPDATE\n",
    "\n",
    "### Update single resource with new linked resources\n",
    "Join a list of `history` items with `ex:clark` (\"Clark Kent\") in an aggregation fashion. The linked objects, however, have no IDs of their own, and there was no constraint set on `history`, so will result in duplication if this is run more than once."
   ]
  },
  {
   "cell_type": "code",
   "execution_count": 410,
   "id": "e850c99c-68aa-4688-ae30-0b262efa1427",
   "metadata": {},
   "outputs": [
    {
     "name": "stdout",
     "output_type": "stream",
     "text": [
      "{\n",
      "    \"ledger\": \"mwb-fluree-poc\",\n",
      "    \"commit\": \"fluree:file://mwb-fluree-poc/main/commit/9df524bbd84b065ef5c28a6f5c1fbd13b0e50a8267d1653ecb8d186e31c8708e.json\",\n",
      "    \"t\": 4,\n",
      "    \"tx-id\": \"5f5e1fdcac5e962d2479612764be91fdd7d12dcefb64214e9298b29dcc9038e9\"\n",
      "}\n"
     ]
    }
   ],
   "source": [
    "%%bash\n",
    "\n",
    "create_data() {\n",
    "    cat << EOF\n",
    "{\n",
    "  \"ledger\": \"$FLUREE_LEDGER\",\n",
    "  \"@context\": {\n",
    "     \"@vocab\": \"https://meaningfy.ws/mapping-workbench#\",\n",
    "     \"@base\": \"https://meaningfy.ws/data-centric-app-demo/\",\n",
    "     \"schema\": \"http://schema.org/\"\n",
    "  },\n",
    "  \"insert\": {\n",
    "    \"@id\": \"clark\",\n",
    "    \"history\": [\n",
    "        {\n",
    "          \"day\": \"2022-12-20\",\n",
    "          \"location\": \"ski basin\"\n",
    "        },\n",
    "        {\n",
    "          \"day\": \"2022-12-21\",\n",
    "          \"location\": \"Target\"\n",
    "        }\n",
    "    ]\n",
    "  }\n",
    "}\n",
    "EOF\n",
    "}\n",
    "\n",
    "curl -s \"$FLUREE_LOCAL_API/transact\" \\\n",
    "--header 'Content-Type: application/json' \\\n",
    "--data \"$(create_data)\" | python -m json.tool"
   ]
  },
  {
   "cell_type": "markdown",
   "id": "b2ae3216-c52a-44b7-9826-9be6c55c85cc",
   "metadata": {},
   "source": [
    "## Test DELETE\n",
    "\n",
    "**THIS IS NOT WORKING AS EXPECTED - RESOURCE IS STILL THERE (SEE READ RESULTS).**"
   ]
  },
  {
   "cell_type": "code",
   "execution_count": 411,
   "id": "7b8aa525-a67d-425c-a544-f92f2e734c02",
   "metadata": {},
   "outputs": [
    {
     "name": "stdout",
     "output_type": "stream",
     "text": [
      "{\n",
      "    \"ledger\": \"mwb-fluree-poc\",\n",
      "    \"commit\": \"fluree:file://mwb-fluree-poc/main/commit/5e22a4516b53b52c6ee20de5d699bfc42794dc49915ba184f05a1b34c792be52.json\",\n",
      "    \"t\": 5,\n",
      "    \"tx-id\": \"b7e7655a6b0cfbeca110f7b2fa01a1f34ff11ee7d546ff253b72b5e27cf5e81b\"\n",
      "}\n"
     ]
    }
   ],
   "source": [
    "%%bash\n",
    "\n",
    "create_data() {\n",
    "    cat << EOF\n",
    "{\n",
    "  \"ledger\": \"$FLUREE_LEDGER\",\n",
    "  \"@context\": {\n",
    "     \"@vocab\": \"https://meaningfy.ws/mapping-workbench#\",\n",
    "     \"@base\": \"https://meaningfy.ws/data-centric-app-demo/\",\n",
    "     \"schema\": \"http://schema.org/\"\n",
    "  },\n",
    "  \"where\": {\n",
    "    \"@id\": \"parsia\",\n",
    "    \"?p\": \"?o\"\n",
    "  },\n",
    "  \"delete\": {\n",
    "    \"@id\": \"parsia\",\n",
    "    \"?p\": \"?o\"\n",
    "  }\n",
    "}\n",
    "EOF\n",
    "}\n",
    "\n",
    "curl -s \"$FLUREE_LOCAL_API/transact\" \\\n",
    "--header 'Content-Type: application/json' \\\n",
    "--data \"$(create_data)\" | python -m json.tool"
   ]
  },
  {
   "cell_type": "markdown",
   "id": "08f05971-6d37-4d0c-8766-a4ff870aff3e",
   "metadata": {},
   "source": [
    "## Test READ"
   ]
  },
  {
   "cell_type": "code",
   "execution_count": 412,
   "id": "547aaf6b-f198-4ce8-b680-11e94c4c44e5",
   "metadata": {},
   "outputs": [
    {
     "name": "stdout",
     "output_type": "stream",
     "text": [
      "[\n",
      "    {\n",
      "        \"@id\": \"lois\",\n",
      "        \"@type\": \"schema:Person\",\n",
      "        \"age\": 34,\n",
      "        \"history\": [\n",
      "            {\n",
      "                \"@id\": \"_:f211106232532998\",\n",
      "                \"dateTime\": \"2022-12-20\",\n",
      "                \"location\": \"ski basin\"\n",
      "            },\n",
      "            {\n",
      "                \"@id\": \"_:f211106232532999\",\n",
      "                \"dateTime\": \"2022-12-21\",\n",
      "                \"location\": \"Target\"\n",
      "            }\n",
      "        ],\n",
      "        \"schema:name\": \"Lois Lane\"\n",
      "    },\n",
      "    {\n",
      "        \"@id\": \"clark\",\n",
      "        \"@type\": \"schema:Person\",\n",
      "        \"schema:telephone\": \"555-555-5555\",\n",
      "        \"age\": 33,\n",
      "        \"history\": [\n",
      "            {\n",
      "                \"@id\": \"_:f211106232533000\",\n",
      "                \"location\": \"Target\",\n",
      "                \"day\": \"2022-12-21\"\n",
      "            },\n",
      "            {\n",
      "                \"@id\": \"_:f211106232533001\",\n",
      "                \"location\": \"ski basin\",\n",
      "                \"day\": \"2022-12-20\"\n",
      "            }\n",
      "        ],\n",
      "        \"schema:name\": \"Clark Kent\"\n",
      "    },\n",
      "    {\n",
      "        \"@id\": \"parsia\",\n",
      "        \"@type\": \"schema:Person\",\n",
      "        \"schema:telephone\": \"555-555-6666\",\n",
      "        \"age\": 33,\n",
      "        \"schema:name\": \"Bijan Parsia\"\n",
      "    }\n",
      "]\n"
     ]
    }
   ],
   "source": [
    "%%bash\n",
    "\n",
    "create_data() {\n",
    "    cat << EOF\n",
    "{\n",
    "  \"from\": \"$FLUREE_LEDGER\",\n",
    "  \"@context\": {\n",
    "     \"@vocab\": \"https://meaningfy.ws/mapping-workbench#\",\n",
    "     \"@base\": \"https://meaningfy.ws/data-centric-app-demo/\",\n",
    "     \"schema\": \"http://schema.org/\"\n",
    "  },\n",
    "  \"select\": {\n",
    "    \"?s\": [\"*\", {\"history\": [\"*\"]}]\n",
    "  },\n",
    "  \"where\": {\n",
    "    \"@id\": \"?s\",\n",
    "    \"@type\": \"schema:Person\"\n",
    "  }\n",
    "}\n",
    "EOF\n",
    "}\n",
    "\n",
    "curl -s \"$FLUREE_LOCAL_API/query\" \\\n",
    "--header 'Content-Type: application/json' \\\n",
    "--data \"$(create_data)\" | python -m json.tool"
   ]
  }
 ],
 "metadata": {
  "kernelspec": {
   "display_name": "Python 3 (ipykernel)",
   "language": "python",
   "name": "python3"
  },
  "language_info": {
   "codemirror_mode": {
    "name": "ipython",
    "version": 3
   },
   "file_extension": ".py",
   "mimetype": "text/x-python",
   "name": "python",
   "nbconvert_exporter": "python",
   "pygments_lexer": "ipython3",
   "version": "3.11.6"
  }
 },
 "nbformat": 4,
 "nbformat_minor": 5
}