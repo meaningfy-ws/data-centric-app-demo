{
 "cells": [
  {
   "cell_type": "code",
   "execution_count": 1,
   "metadata": {
    "collapsed": true,
    "pycharm": {
     "name": "#%%\n"
    }
   },
   "outputs": [
    {
     "data": {
      "text/plain": "PosixPath('/mnt/c/Users/user/Desktop/data-centric-app-demo')"
     },
     "execution_count": 1,
     "metadata": {},
     "output_type": "execute_result"
    }
   ],
   "source": [
    "from pathlib import Path\n",
    "import sys\n",
    "sys.path.append('..')\n",
    "\n",
    "PROJECT_FOLDER_PATH = Path().parent.resolve().parents[0]\n",
    "RESOURCES_FOLDER_PATH = PROJECT_FOLDER_PATH / \"resources\"\n",
    "PROJECT_FOLDER_PATH"
   ]
  },
  {
   "cell_type": "code",
   "execution_count": 4,
   "outputs": [],
   "source": [
    "from data_centric_app_demo.adapters.fluree_repository import FlureeDBPersonRepository\n",
    "\n",
    "fluree_person_repo = FlureeDBPersonRepository(\n",
    "    fluree_host=\"http://localhost\",\n",
    "    fluree_port=58090)\n"
   ],
   "metadata": {
    "collapsed": false,
    "pycharm": {
     "name": "#%%\n"
    }
   }
  },
  {
   "cell_type": "code",
   "execution_count": 12,
   "outputs": [],
   "source": [
    "from data_centric_app_demo.models.person import Person\n",
    "\n",
    "person1 = Person(\n",
    "    id=\"1\",\n",
    "    name=\"John Doe\",\n",
    "    age=30,\n",
    "    phone=\"+37368952048\",\n",
    ")"
   ],
   "metadata": {
    "collapsed": false,
    "pycharm": {
     "name": "#%%\n"
    }
   }
  },
  {
   "cell_type": "code",
   "execution_count": 13,
   "outputs": [
    {
     "name": "stdout",
     "output_type": "stream",
     "text": [
      "{\"id\":\"1\",\"name\":\"John Doe\",\"age\":30,\"phone\":\"tel:+373-689-52-048\"}\n"
     ]
    }
   ],
   "source": [
    "fluree_person_repo.add(person1)"
   ],
   "metadata": {
    "collapsed": false,
    "pycharm": {
     "name": "#%%\n"
    }
   }
  }
 ],
 "metadata": {
  "kernelspec": {
   "display_name": "Python 3",
   "language": "python",
   "name": "python3"
  },
  "language_info": {
   "codemirror_mode": {
    "name": "ipython",
    "version": 2
   },
   "file_extension": ".py",
   "mimetype": "text/x-python",
   "name": "python",
   "nbconvert_exporter": "python",
   "pygments_lexer": "ipython2",
   "version": "2.7.6"
  }
 },
 "nbformat": 4,
 "nbformat_minor": 0
}