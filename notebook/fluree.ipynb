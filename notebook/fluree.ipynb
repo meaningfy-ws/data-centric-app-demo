{
 "cells": [
  {
   "cell_type": "markdown",
   "id": "760643b9-724f-48ff-9a2c-bdecd6dad7e0",
   "metadata": {},
   "source": [
    "# Setup"
   ]
  },
  {
   "cell_type": "markdown",
   "id": "236451da-846b-4c47-8fa6-08b073efb3b6",
   "metadata": {},
   "source": [
    "## Prepare ontology"
   ]
  },
  {
   "cell_type": "code",
   "execution_count": 61,
   "id": "0a1c9ecd-6812-405a-99fb-76e5d0d18e7d",
   "metadata": {},
   "outputs": [
    {
     "name": "stdout",
     "output_type": "stream",
     "text": [
      "env: ONTOLOGY_FILE=../ontology/mwb-ontology.owl.yaml\n",
      "env: OUTPUT_DIR=../output\n",
      "env: OUTPUT_VIZ=../output/Data-centric-app-demo.jpg\n",
      "env: OUTPUT_OWL=../output/mwb-ontology.owl.ttl\n",
      "env: OUTPUT_SHACL=../output/mwb-shapes.shacl.ttl\n"
     ]
    }
   ],
   "source": [
    "%env ONTOLOGY_FILE=../ontology/mwb-ontology.owl.yaml\n",
    "%env OUTPUT_DIR=../output\n",
    "%env OUTPUT_VIZ=../output/Data-centric-app-demo.jpg\n",
    "%env OUTPUT_OWL=../output/mwb-ontology.owl.ttl\n",
    "%env OUTPUT_SHACL=../output/mwb-shapes.shacl.ttl"
   ]
  },
  {
   "cell_type": "code",
   "execution_count": 62,
   "id": "551111c8-49ba-4ce7-b209-f3f4f82dce8b",
   "metadata": {},
   "outputs": [
    {
     "name": "stdout",
     "output_type": "stream",
     "text": [
      "    tree_root: true\n",
      "    attributes:\n",
      "      persons:\n",
      "        multivalued: true\n",
      "        inlined_as_list: true\n",
      "        range: Person\n",
      "      companies:\n",
      "        multivalued: true\n",
      "        inlined_as_list: true\n",
      "        range: Company\n"
     ]
    }
   ],
   "source": [
    "!tail $ONTOLOGY_FILE"
   ]
  },
  {
   "cell_type": "markdown",
   "id": "87da3984-5f9d-4528-b9ea-ab0453a56516",
   "metadata": {},
   "source": [
    "## Prepare test data"
   ]
  },
  {
   "cell_type": "code",
   "execution_count": 63,
   "id": "67d973a9-2fc4-47b9-a253-485e75a5ea0d",
   "metadata": {},
   "outputs": [
    {
     "name": "stdout",
     "output_type": "stream",
     "text": [
      "env: DATA_FILE=../tests/test_data/mwb-demo-data.yaml\n",
      "env: OUTPUT_DATA=../output/mwb-demo-data.ttl\n"
     ]
    }
   ],
   "source": [
    "%env DATA_FILE=../tests/test_data/mwb-demo-data.yaml\n",
    "%env OUTPUT_DATA=../output/mwb-demo-data.ttl"
   ]
  },
  {
   "cell_type": "code",
   "execution_count": 64,
   "id": "2cda8e5d-7362-41be-8444-bcd717556556",
   "metadata": {},
   "outputs": [
    {
     "name": "stdout",
     "output_type": "stream",
     "text": [
      "    name: Clark Kent\n",
      "    age: 33\n",
      "    phone: 555-555-5555\n",
      "  - id: mnfy:4567\n",
      "    name: Lois Lane\n",
      "    age: 34\n",
      "companies:\n",
      "  - id: mnfy:7890\n",
      "    name: ABC Inc.\n",
      "    phone: 555-555-5555\n"
     ]
    }
   ],
   "source": [
    "!tail $DATA_FILE"
   ]
  },
  {
   "cell_type": "markdown",
   "id": "a2d475dc-14bf-4648-a678-783af6578182",
   "metadata": {},
   "source": [
    "## Test LinkML environment"
   ]
  },
  {
   "cell_type": "markdown",
   "id": "abed83cc-8b8c-4a91-937c-80fd1dcea8f8",
   "metadata": {},
   "source": [
    "### Validate data against ontology"
   ]
  },
  {
   "cell_type": "code",
   "execution_count": 65,
   "id": "463766e5-569d-4643-a6da-c814c524d331",
   "metadata": {},
   "outputs": [
    {
     "name": "stdout",
     "output_type": "stream",
     "text": [
      "No issues found\n"
     ]
    }
   ],
   "source": [
    "!linkml-validate -s $ONTOLOGY_FILE $DATA_FILE"
   ]
  },
  {
   "cell_type": "markdown",
   "id": "4eb0745a-e867-407f-ad00-d6d7684cb000",
   "metadata": {},
   "source": [
    "### Export OWL ontology"
   ]
  },
  {
   "cell_type": "code",
   "execution_count": 66,
   "id": "3f3cdfa3-d6ee-4139-b67a-3bb4a3d0da94",
   "metadata": {},
   "outputs": [
    {
     "name": "stdout",
     "output_type": "stream",
     "text": [
      "WARNING:root:Ambiguous attribute: id https://meaningfy.ws/data-centric-app-demo/id\n",
      "WARNING:root:Ambiguous attribute: aliases https://meaningfy.ws/data-centric-app-demo/aliases\n",
      "WARNING:root:Ambiguous attribute: id https://meaningfy.ws/data-centric-app-demo/id\n",
      "WARNING:root:Ambiguous attribute: aliases https://meaningfy.ws/data-centric-app-demo/aliases\n"
     ]
    }
   ],
   "source": [
    "!gen-owl $ONTOLOGY_FILE > $OUTPUT_OWL"
   ]
  },
  {
   "cell_type": "code",
   "execution_count": 67,
   "id": "88b1c06e-660f-4528-ba16-14bc7265aac4",
   "metadata": {},
   "outputs": [
    {
     "name": "stdout",
     "output_type": "stream",
     "text": [
      "mnfy:name a owl:DatatypeProperty ;\n",
      "    rdfs:label \"name\" ;\n",
      "    skos:definition \"name of the person\" ;\n",
      "    skos:inScheme <https://meaningfy.ws/data-centric-app-demo> .\n",
      "\n",
      "mnfy:phone a owl:DatatypeProperty ;\n",
      "    rdfs:label \"phone\" ;\n",
      "    skos:inScheme <https://meaningfy.ws/data-centric-app-demo> .\n",
      "\n",
      "\n"
     ]
    }
   ],
   "source": [
    "!tail $OUTPUT_OWL"
   ]
  },
  {
   "cell_type": "markdown",
   "id": "28c379c5-8cf9-4391-a4b5-7370a35d44a1",
   "metadata": {},
   "source": [
    "### Export RDF data informed by ontology"
   ]
  },
  {
   "cell_type": "code",
   "execution_count": 68,
   "id": "71325e20-6ca3-47be-b472-2a2f3798d1f6",
   "metadata": {},
   "outputs": [],
   "source": [
    "!linkml-convert -s $ONTOLOGY_FILE $DATA_FILE -o $OUTPUT_DATA"
   ]
  },
  {
   "cell_type": "code",
   "execution_count": 69,
   "id": "4efe98ed-eba5-443b-bcdb-1fe310cc1be2",
   "metadata": {},
   "outputs": [
    {
     "name": "stdout",
     "output_type": "stream",
     "text": [
      "\n",
      "mnfy:7890 a mnfy:Company ;\n",
      "    schema1:name \"ABC Inc.\" ;\n",
      "    schema1:telephone \"555-555-5555\" .\n",
      "\n",
      "[] a mnfy:Container ;\n",
      "    mnfy:companies mnfy:7890 ;\n",
      "    mnfy:persons mnfy:1234,\n",
      "        mnfy:4567 .\n",
      "\n"
     ]
    }
   ],
   "source": [
    "!tail $OUTPUT_DATA"
   ]
  },
  {
   "cell_type": "markdown",
   "id": "b42f136e-9e18-497e-aa75-3ca42bee9c02",
   "metadata": {},
   "source": [
    "### Export SHACL shapes derived from ontology"
   ]
  },
  {
   "cell_type": "code",
   "execution_count": 70,
   "id": "2ca7a15b-5a62-4c51-bca9-0cc0faf91150",
   "metadata": {},
   "outputs": [],
   "source": [
    "!gen-shacl --no-metadata $ONTOLOGY_FILE > $OUTPUT_SHACL"
   ]
  },
  {
   "cell_type": "code",
   "execution_count": 71,
   "id": "e440aefa-457d-455a-a4c1-cfad3ca4d34b",
   "metadata": {},
   "outputs": [
    {
     "name": "stdout",
     "output_type": "stream",
     "text": [
      "        [ sh:datatype xsd:integer ;\n",
      "            sh:maxCount 1 ;\n",
      "            sh:maxInclusive 200 ;\n",
      "            sh:minInclusive 0 ;\n",
      "            sh:nodeKind sh:Literal ;\n",
      "            sh:order 4 ;\n",
      "            sh:path mnfy:age ] ;\n",
      "    sh:targetClass schema1:Person .\n",
      "\n",
      "\n"
     ]
    }
   ],
   "source": [
    "!tail $OUTPUT_SHACL"
   ]
  },
  {
   "cell_type": "markdown",
   "id": "15fc6518-4c6f-48aa-adf5-5269879364ac",
   "metadata": {},
   "source": [
    "### Export UML visualization of ontology"
   ]
  },
  {
   "cell_type": "code",
   "execution_count": 72,
   "id": "43877ff8-062e-4368-bc71-72e304d01bf5",
   "metadata": {},
   "outputs": [
    {
     "name": "stdout",
     "output_type": "stream",
     "text": [
      "Exporting UML diagram.. \n",
      "../output/Data-centric-app-demo.jpg: JPEG image data, JFIF standard 1.01, aspect ratio, density 72x72, segment length 16, baseline, precision 8, 560x215, frames 3\n"
     ]
    }
   ],
   "source": [
    "!echo \"Exporting UML diagram.. \" && gen-yuml -f jpg -d $OUTPUT_DIR $ONTOLOGY_FILE && file $OUTPUT_VIZ"
   ]
  },
  {
   "cell_type": "code",
   "execution_count": null,
   "id": "308c2c49-7a04-4a34-a387-9998b9009bbc",
   "metadata": {},
   "outputs": [],
   "source": []
  }
 ],
 "metadata": {
  "kernelspec": {
   "display_name": "Python 3 (ipykernel)",
   "language": "python",
   "name": "python3"
  },
  "language_info": {
   "codemirror_mode": {
    "name": "ipython",
    "version": 3
   },
   "file_extension": ".py",
   "mimetype": "text/x-python",
   "name": "python",
   "nbconvert_exporter": "python",
   "pygments_lexer": "ipython3",
   "version": "3.11.6"
  }
 },
 "nbformat": 4,
 "nbformat_minor": 5
}
