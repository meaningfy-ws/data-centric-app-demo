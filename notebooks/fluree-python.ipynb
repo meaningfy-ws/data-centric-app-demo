{
 "cells": [
  {
   "cell_type": "markdown",
   "source": [
    "#### Prepare libs, logger and constants"
   ],
   "metadata": {
    "collapsed": false,
    "pycharm": {
     "name": "#%% md\n"
    }
   }
  },
  {
   "cell_type": "code",
   "execution_count": null,
   "outputs": [],
   "source": [
    "import logging\n",
    "import sys\n",
    "from pathlib import Path\n",
    "\n",
    "logger = logging.getLogger()\n",
    "logger.setLevel(logging.INFO)\n",
    "\n",
    "sys.path.append('..')\n",
    "\n",
    "PROJECT_FOLDER_PATH = Path().parent.resolve().parents[0]\n",
    "RESOURCES_FOLDER_PATH = PROJECT_FOLDER_PATH / \"resources\"\n",
    "GEN_PYTHON_CLASS_OUTPUT_PATH=PROJECT_FOLDER_PATH / \"data_centric_app_demo\" / \"models\" / \"person_linkml.py\"\n",
    "LINKML_SCHEMA_PATH=RESOURCES_FOLDER_PATH / \"mwb-ontology.owl.yaml\"\n",
    "PROJECT_FOLDER_PATH"
   ],
   "metadata": {
    "collapsed": false,
    "pycharm": {
     "name": "#%%\n"
    }
   }
  },
  {
   "cell_type": "markdown",
   "source": [
    "### Generate Python class using LinkML"
   ],
   "metadata": {
    "collapsed": false,
    "pycharm": {
     "name": "#%% md\n"
    }
   }
  },
  {
   "cell_type": "code",
   "execution_count": null,
   "outputs": [],
   "source": [
    "from linkml.generators import PydanticGenerator\n",
    "\n",
    "\n",
    "\n",
    "pydantic_generator = PydanticGenerator(\n",
    "    schema=LINKML_SCHEMA_PATH,\n",
    ")\n",
    "gen_output = pydantic_generator.serialize()\n",
    "GEN_PYTHON_CLASS_OUTPUT_PATH.write_text(gen_output)"
   ],
   "metadata": {
    "collapsed": false,
    "pycharm": {
     "name": "#%%\n"
    }
   }
  },
  {
   "cell_type": "markdown",
   "source": [
    "### Init Person Repository for Fluree"
   ],
   "metadata": {
    "collapsed": false,
    "pycharm": {
     "name": "#%% md\n"
    }
   }
  },
  {
   "cell_type": "code",
   "execution_count": null,
   "outputs": [],
   "source": [
    "from data_centric_app_demo.adapters.fluree_repository import FlureeDBPersonRepository\n",
    "\n",
    "fluree_person_repo = FlureeDBPersonRepository(\n",
    "    fluree_host=\"http://localhost\",\n",
    "    fluree_port=58090,\n",
    "    ledger_name=\"main/test_ledger_a\")\n"
   ],
   "metadata": {
    "collapsed": false,
    "pycharm": {
     "name": "#%%\n"
    }
   }
  },
  {
   "cell_type": "markdown",
   "source": [
    "### Create 2 examples of Person class"
   ],
   "metadata": {
    "collapsed": false,
    "pycharm": {
     "name": "#%% md\n"
    }
   }
  },
  {
   "cell_type": "code",
   "execution_count": null,
   "outputs": [],
   "source": [
    "from data_centric_app_demo.models.person import Person\n",
    "\n",
    "person1 = Person(\n",
    "    id=\"1\",\n",
    "    name=\"John Doe\",\n",
    "    age=30,\n",
    "    phone=\"+37368952048\",\n",
    ")\n",
    "person2 = Person(\n",
    "    id=\"2\",\n",
    "    name=\"Anton\",\n",
    "    age=29\n",
    ")"
   ],
   "metadata": {
    "collapsed": false,
    "pycharm": {
     "name": "#%%\n"
    }
   }
  },
  {
   "cell_type": "markdown",
   "source": [
    "### Insert both persons"
   ],
   "metadata": {
    "collapsed": false,
    "pycharm": {
     "name": "#%% md\n"
    }
   }
  },
  {
   "cell_type": "code",
   "execution_count": null,
   "outputs": [],
   "source": [
    "fluree_person_repo.add(person1)\n",
    "fluree_person_repo.add(person2)"
   ],
   "metadata": {
    "collapsed": false,
    "pycharm": {
     "name": "#%%\n"
    }
   }
  },
  {
   "cell_type": "markdown",
   "source": [
    "### Get second person"
   ],
   "metadata": {
    "collapsed": false,
    "pycharm": {
     "name": "#%% md\n"
    }
   }
  },
  {
   "cell_type": "code",
   "execution_count": null,
   "outputs": [],
   "source": [
    "fluree_person_repo.get_by_id(\"2\")"
   ],
   "metadata": {
    "collapsed": false,
    "pycharm": {
     "name": "#%%\n"
    }
   }
  },
  {
   "cell_type": "markdown",
   "source": [
    "### List persons"
   ],
   "metadata": {
    "collapsed": false,
    "pycharm": {
     "name": "#%% md\n"
    }
   }
  },
  {
   "cell_type": "code",
   "execution_count": null,
   "outputs": [],
   "source": [
    "for person in fluree_person_repo.list():\n",
    "    print(person.model_dump_json())"
   ],
   "metadata": {
    "collapsed": false,
    "pycharm": {
     "name": "#%%\n"
    }
   }
  },
  {
   "cell_type": "markdown",
   "source": [
    "### Delete second person"
   ],
   "metadata": {
    "collapsed": false,
    "pycharm": {
     "name": "#%% md\n"
    }
   }
  },
  {
   "cell_type": "code",
   "execution_count": null,
   "outputs": [],
   "source": [
    "fluree_person_repo.delete(\"2\")"
   ],
   "metadata": {
    "collapsed": false,
    "pycharm": {
     "name": "#%%\n"
    }
   }
  },
  {
   "cell_type": "markdown",
   "source": [
    "### Check if second person is deleted"
   ],
   "metadata": {
    "collapsed": false,
    "pycharm": {
     "name": "#%% md\n"
    }
   }
  },
  {
   "cell_type": "code",
   "execution_count": null,
   "outputs": [],
   "source": [
    "for person in fluree_person_repo.list():\n",
    "    print(person.model_dump_json())"
   ],
   "metadata": {
    "collapsed": false,
    "pycharm": {
     "name": "#%%\n"
    }
   }
  }
 ],
 "metadata": {
  "kernelspec": {
   "display_name": "Python 3",
   "language": "python",
   "name": "python3"
  },
  "language_info": {
   "codemirror_mode": {
    "name": "ipython",
    "version": 2
   },
   "file_extension": ".py",
   "mimetype": "text/x-python",
   "name": "python",
   "nbconvert_exporter": "python",
   "pygments_lexer": "ipython2",
   "version": "2.7.6"
  }
 },
 "nbformat": 4,
 "nbformat_minor": 0
}